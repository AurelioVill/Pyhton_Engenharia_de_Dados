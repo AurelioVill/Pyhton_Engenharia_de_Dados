{
 "cells": [
  {
   "attachments": {},
   "cell_type": "markdown",
   "metadata": {},
   "source": [
    "texto acima serve para armAZENAR VARIAVEL"
   ]
  },
  {
   "attachments": {},
   "cell_type": "markdown",
   "metadata": {},
   "source": [
    "Mostra resultado"
   ]
  },
  {
   "attachments": {},
   "cell_type": "markdown",
   "metadata": {},
   "source": [
    "# teste"
   ]
  },
  {
   "cell_type": "code",
   "execution_count": 7,
   "metadata": {},
   "outputs": [],
   "source": [
    "nome = 'Jose '\n",
    "nome2 = \"Aurelio \"\n",
    "nome3 = \"Vilar \"\n",
    "nome4 = \"Da \"\n",
    "nome5 = \"Silva\"\n",
    "\n",
    "\"\"\"Adiconando apenas um comentário de teste\"\"\"\n",
    "# Mais um comentário apenas para teste\n"
   ]
  },
  {
   "cell_type": "code",
   "execution_count": 13,
   "metadata": {},
   "outputs": [
    {
     "name": "stdout",
     "output_type": "stream",
     "text": [
      "Meu primeioro nome é-> Jose Aurelio \n",
      "Embaixo ta o resto-> Vilar Da Silva\n"
     ]
    }
   ],
   "source": [
    "print(f'Meu primeioro nome é-> {nome + nome2}')\n",
    "print(f'Embaixo ta o resto-> {nome3 + nome4 + nome5}')"
   ]
  },
  {
   "attachments": {},
   "cell_type": "markdown",
   "metadata": {},
   "source": [
    "## Teste"
   ]
  },
  {
   "attachments": {},
   "cell_type": "markdown",
   "metadata": {},
   "source": [
    "#### teste"
   ]
  }
 ],
 "metadata": {
  "kernelspec": {
   "display_name": "Python 3",
   "language": "python",
   "name": "python3"
  },
  "language_info": {
   "codemirror_mode": {
    "name": "ipython",
    "version": 3
   },
   "file_extension": ".py",
   "mimetype": "text/x-python",
   "name": "python",
   "nbconvert_exporter": "python",
   "pygments_lexer": "ipython3",
   "version": "3.12.4"
  },
  "orig_nbformat": 4,
  "vscode": {
   "interpreter": {
    "hash": "23f7ff7aaca6907098356dfc8e3c55a350765cf0620a4fd83dce43a62819432a"
   }
  }
 },
 "nbformat": 4,
 "nbformat_minor": 2
}
