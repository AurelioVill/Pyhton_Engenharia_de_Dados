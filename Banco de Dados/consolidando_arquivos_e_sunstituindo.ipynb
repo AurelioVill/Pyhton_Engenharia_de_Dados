{
 "cells": [
  {
   "cell_type": "code",
   "execution_count": 2,
   "metadata": {},
   "outputs": [],
   "source": [
    "import pandas as pd\n",
    "import openpyxl\n",
    "import os"
   ]
  },
  {
   "cell_type": "code",
   "execution_count": null,
   "metadata": {},
   "outputs": [],
   "source": [
    "#Chamando o diretório onde se encontram os arquivos que quero buscar\n",
    "diretorio = (r\"C:\\Users\\Usuário\\Documents\\Arquivos_Python_Engenharia_Dados\\Origem\\arquivos_excel\\Consolidar\")\n",
    "\n",
    "#Lista vazia onde irei adicionar os arquivos, chamarei essa lista no loop para adicionar os arquivos nela\n",
    "dados = []\n",
    "\n",
    "#Loop onde vou varrer o diretório para buscar os arquivos com a extensão .xlsx, onde na primeira linha estou indicando o diretorio que criei logo acima.\n",
    "#Na segunda linha, estou fazendo a condição de buscar apenas os arquivos com a extensão .xlsx\n",
    "#Na terceira linha estou untando as informações do diretorio e dos arquivos em si\n",
    "#NA quarta estou chamando a função pandas para leitura dos arquivos chamando a variavel que criei acima\n",
    "#NA quinta estou adicionando as informações na lista vazia que havia criado anteriormente\n",
    "\n",
    "for arquivo in os.listdir(diretorio):\n",
    "    if arquivo.endswith('.xlsx'):\n",
    "        caminho_arquivo = os.path.join(diretorio, arquivo)\n",
    "        df = pd.read_excel(caminho_arquivo)\n",
    "        dados.append(df)\n",
    "\n",
    "#Concatenando todas as informações na lista de dados e logo após chamando todas as informações, onde me virá como respota as 5 primeiras e as 5 ultimas linhas.\n",
    "consolidado = pd.concat(dados)\n",
    "consolidado"
   ]
  },
  {
   "cell_type": "code",
   "execution_count": null,
   "metadata": {},
   "outputs": [],
   "source": [
    "import os\n",
    "pasta_destino = r'C:\\\\Users\\\\Usuário\\\\Documents\\\\Arquivos_Python_Engenharia_Dados\\\\Origem\\\\arquivos_excel\\\\Consolidar\\\\Arquivos consolidados\\\\'\n",
    "\n",
    "nome_arquivo = \"VendasGeraDelete.xlsx\"\n",
    "\n",
    "Caminho_Completo = pasta_destino + nome_arquivo\n",
    "\n",
    "#Condição para verificar se o arquivo existe com o mesmo nome, se existir será removido\n",
    "if os.path.exists(Caminho_Completo):\n",
    "    os.remove(Caminho_Completo)\n",
    "\n",
    "consolidado.to_excel(Caminho_Completo, index=False)"
   ]
  }
 ],
 "metadata": {
  "kernelspec": {
   "display_name": "Python 3",
   "language": "python",
   "name": "python3"
  },
  "language_info": {
   "codemirror_mode": {
    "name": "ipython",
    "version": 3
   },
   "file_extension": ".py",
   "mimetype": "text/x-python",
   "name": "python",
   "nbconvert_exporter": "python",
   "pygments_lexer": "ipython3",
   "version": "3.12.4"
  }
 },
 "nbformat": 4,
 "nbformat_minor": 2
}
